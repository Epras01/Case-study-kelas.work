{
 "cells": [
  {
   "cell_type": "raw",
   "id": "ebb110cf-a28f-41f3-84b9-c3f15ab1e226",
   "metadata": {},
   "source": [
    "import pandas as pd\n",
    "import numpy as np"
   ]
  },
  {
   "cell_type": "code",
   "execution_count": 3,
   "id": "7a562ade-b506-47c6-b889-b996272bf7e3",
   "metadata": {},
   "outputs": [
    {
     "name": "stdout",
     "output_type": "stream",
     "text": [
      "belajar git clone\n",
      "berhasil melakukan clone dari github\n"
     ]
    }
   ],
   "source": [
    "print (\"belajar git clone\")\n",
    "print (\"berhasil melakukan clone dari github\")"
   ]
  },
  {
   "cell_type": "code",
   "execution_count": null,
   "id": "8b21e3aa-08a3-4d1a-a661-01d744c3cb83",
   "metadata": {},
   "outputs": [],
   "source": []
  }
 ],
 "metadata": {
  "kernelspec": {
   "display_name": "Python 3 (ipykernel)",
   "language": "python",
   "name": "python3"
  },
  "language_info": {
   "codemirror_mode": {
    "name": "ipython",
    "version": 3
   },
   "file_extension": ".py",
   "mimetype": "text/x-python",
   "name": "python",
   "nbconvert_exporter": "python",
   "pygments_lexer": "ipython3",
   "version": "3.12.4"
  }
 },
 "nbformat": 4,
 "nbformat_minor": 5
}
