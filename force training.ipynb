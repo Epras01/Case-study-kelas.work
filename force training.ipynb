{
 "cells": [
  {
   "cell_type": "code",
   "execution_count": 1,
   "id": "62491a34-bbfe-45ef-b349-d78f0aae5646",
   "metadata": {},
   "outputs": [],
   "source": [
    "import pandas as pd"
   ]
  },
  {
   "cell_type": "code",
   "execution_count": 3,
   "id": "c4c698b9-f01c-4e2e-844e-0c306534dea1",
   "metadata": {},
   "outputs": [],
   "source": [
    "sales_data =  [100, 150, 50, 100, 130, 120, 100, 85, 70, 150, \n",
    "              150, 120, 50, 100, 100, 140, 90, 150, 50, 90, \n",
    "              120, 100, 110, 75, 65]"
   ]
  },
  {
   "cell_type": "code",
   "execution_count": 5,
   "id": "0535bf5f-6ee7-4126-9d39-954c0c8fd18e",
   "metadata": {},
   "outputs": [],
   "source": [
    "df = pd.DataFrame({'TransactionAmount' : sales_data})"
   ]
  },
  {
   "cell_type": "code",
   "execution_count": 7,
   "id": "0f6eaeb3-46c4-4e2a-9165-dc5a6390d08e",
   "metadata": {},
   "outputs": [
    {
     "name": "stdout",
     "output_type": "stream",
     "text": [
      "   TransactionAmount\n",
      "0                100\n",
      "1                150\n",
      "2                 50\n",
      "3                100\n",
      "4                130\n"
     ]
    }
   ],
   "source": [
    "print (df.head())"
   ]
  },
  {
   "cell_type": "code",
   "execution_count": 9,
   "id": "7da22b1f-dad1-4565-bbdc-645d76ee62e3",
   "metadata": {},
   "outputs": [
    {
     "name": "stdout",
     "output_type": "stream",
     "text": [
      "    TransactionAmount\n",
      "20                120\n",
      "21                100\n",
      "22                110\n",
      "23                 75\n",
      "24                 65\n"
     ]
    }
   ],
   "source": [
    "print (df.tail())"
   ]
  },
  {
   "cell_type": "code",
   "execution_count": 11,
   "id": "2114baf3-ef32-4e30-8c61-f87e23f4057e",
   "metadata": {},
   "outputs": [],
   "source": [
    "df.to_csv('sales_data.csv', index=False)"
   ]
  },
  {
   "cell_type": "code",
   "execution_count": 13,
   "id": "b99cbf19-c3ed-4f2e-8d5d-32128291215e",
   "metadata": {},
   "outputs": [
    {
     "name": "stdout",
     "output_type": "stream",
     "text": [
      "Mean: 102.6\n"
     ]
    }
   ],
   "source": [
    "mean_value = df['TransactionAmount'].mean()\n",
    "print(f\"Mean: {mean_value}\")"
   ]
  },
  {
   "cell_type": "code",
   "execution_count": 15,
   "id": "a5dd6b71-01da-4026-b976-4e79879801da",
   "metadata": {},
   "outputs": [
    {
     "name": "stdout",
     "output_type": "stream",
     "text": [
      "Median: 100.0\n"
     ]
    }
   ],
   "source": [
    "median_value = df['TransactionAmount'].median()\n",
    "print(f\"Median: {median_value}\")"
   ]
  },
  {
   "cell_type": "code",
   "execution_count": 17,
   "id": "187b18dc-11f4-45aa-b1d4-15903b37c172",
   "metadata": {},
   "outputs": [
    {
     "name": "stdout",
     "output_type": "stream",
     "text": [
      "Mode:100\n"
     ]
    }
   ],
   "source": [
    "mode_value = df['TransactionAmount'].mode()[0]\n",
    "print(f\"Mode:{mode_value}\")"
   ]
  },
  {
   "cell_type": "code",
   "execution_count": 19,
   "id": "f49ec50b-0f6d-4eb1-be47-556d3113fd1b",
   "metadata": {},
   "outputs": [
    {
     "name": "stdout",
     "output_type": "stream",
     "text": [
      "Standard Deviation: 31.82373328193912\n"
     ]
    }
   ],
   "source": [
    "std_dev = df['TransactionAmount'].std()\n",
    "print(f\"Standard Deviation: {std_dev}\")"
   ]
  },
  {
   "cell_type": "code",
   "execution_count": 21,
   "id": "179ce944-c4cb-459c-8273-db5fc1c319b0",
   "metadata": {},
   "outputs": [
    {
     "name": "stdout",
     "output_type": "stream",
     "text": [
      "Variance: 1012.7499999999997\n"
     ]
    }
   ],
   "source": [
    "variance = df['TransactionAmount'].var()\n",
    "print(f\"Variance: {variance}\")"
   ]
  },
  {
   "cell_type": "code",
   "execution_count": 23,
   "id": "6e6adcdc-ef3a-4dcc-8cc9-1b7fecaf7ccd",
   "metadata": {},
   "outputs": [
    {
     "name": "stdout",
     "output_type": "stream",
     "text": [
      "Range: 100\n"
     ]
    }
   ],
   "source": [
    "range_value = df['TransactionAmount'].max() - df['TransactionAmount'].min()\n",
    "print(f\"Range: {range_value}\")"
   ]
  },
  {
   "cell_type": "code",
   "execution_count": 25,
   "id": "1403c101-b188-4602-8391-4fd9c958ece2",
   "metadata": {},
   "outputs": [
    {
     "name": "stdout",
     "output_type": "stream",
     "text": [
      "Interquartile Range (IQR): 35.0\n"
     ]
    }
   ],
   "source": [
    "iqr = df['TransactionAmount'].quantile(0.75) - df['TransactionAmount'].quantile(0.25)\n",
    "print(f\"Interquartile Range (IQR): {iqr}\")"
   ]
  },
  {
   "cell_type": "code",
   "execution_count": 27,
   "id": "edb7426a-9b40-484a-839e-eadbe24460cd",
   "metadata": {},
   "outputs": [],
   "source": [
    "from scipy import stats"
   ]
  },
  {
   "cell_type": "code",
   "execution_count": 29,
   "id": "4249b4c1-4eb1-4741-a4db-45af8a99478b",
   "metadata": {},
   "outputs": [],
   "source": [
    "mu = 100"
   ]
  },
  {
   "cell_type": "code",
   "execution_count": 31,
   "id": "29b7c808-a01c-4a0a-acf8-3083f6f6e527",
   "metadata": {},
   "outputs": [],
   "source": [
    "t_statistic, p_value = stats.ttest_1samp(df['TransactionAmount'], mu)"
   ]
  },
  {
   "cell_type": "code",
   "execution_count": 33,
   "id": "81fc9cbf-953c-4511-9a5f-60925404b6cc",
   "metadata": {},
   "outputs": [
    {
     "name": "stdout",
     "output_type": "stream",
     "text": [
      "T-Statistic: 0.4085001556802841\n",
      "P-Value: 0.6865284813438117\n"
     ]
    }
   ],
   "source": [
    "print(f\"T-Statistic: {t_statistic}\")\n",
    "print(f\"P-Value: {p_value}\")"
   ]
  },
  {
   "cell_type": "code",
   "execution_count": null,
   "id": "abaa3405-6de3-44fb-acce-5a03de7b4fa7",
   "metadata": {},
   "outputs": [],
   "source": []
  }
 ],
 "metadata": {
  "kernelspec": {
   "display_name": "Python [conda env:base] *",
   "language": "python",
   "name": "conda-base-py"
  },
  "language_info": {
   "codemirror_mode": {
    "name": "ipython",
    "version": 3
   },
   "file_extension": ".py",
   "mimetype": "text/x-python",
   "name": "python",
   "nbconvert_exporter": "python",
   "pygments_lexer": "ipython3",
   "version": "3.12.7"
  }
 },
 "nbformat": 4,
 "nbformat_minor": 5
}
