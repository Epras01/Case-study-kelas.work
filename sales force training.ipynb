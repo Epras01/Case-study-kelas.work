{
 "cells": [
  {
   "cell_type": "code",
   "execution_count": 1,
   "id": "0871340c-1904-4286-b5c0-ed5a829bb368",
   "metadata": {},
   "outputs": [],
   "source": [
    "import pandas as pd"
   ]
  },
  {
   "cell_type": "code",
   "execution_count": 2,
   "id": "009c19c7-3e74-40a8-9f94-28d16885d78a",
   "metadata": {},
   "outputs": [],
   "source": [
    "sales_data =  [100, 150, 50, 100, 130, 120, 100, 85, 70, 150, \n",
    "              150, 120, 50, 100, 100, 140, 90, 150, 50, 90, \n",
    "              120, 100, 110, 75, 65]"
   ]
  },
  {
   "cell_type": "code",
   "execution_count": 3,
   "id": "1a7f6943-85da-47d6-bd9c-b815dc500595",
   "metadata": {},
   "outputs": [],
   "source": [
    "df = pd.DataFrame({'TransactionAmount' : sales_data})"
   ]
  },
  {
   "cell_type": "code",
   "execution_count": 7,
   "id": "3f5cf16b-e84c-4365-9138-5391c741592d",
   "metadata": {},
   "outputs": [
    {
     "name": "stdout",
     "output_type": "stream",
     "text": [
      "   TransactionAmount\n",
      "0                100\n",
      "1                150\n",
      "2                 50\n",
      "3                100\n",
      "4                130\n"
     ]
    }
   ],
   "source": [
    "print (df.head())"
   ]
  },
  {
   "cell_type": "code",
   "execution_count": 9,
   "id": "204b899b-73b3-4874-9e91-9a4e4a76ad3f",
   "metadata": {},
   "outputs": [
    {
     "name": "stdout",
     "output_type": "stream",
     "text": [
      "    TransactionAmount\n",
      "20                120\n",
      "21                100\n",
      "22                110\n",
      "23                 75\n",
      "24                 65\n"
     ]
    }
   ],
   "source": [
    "print (df.tail())"
   ]
  },
  {
   "cell_type": "code",
   "execution_count": 11,
   "id": "e82c25c6-897c-458c-a069-10be65be7643",
   "metadata": {},
   "outputs": [],
   "source": [
    "df.to_csv('sales_data.csv', index=False)"
   ]
  },
  {
   "cell_type": "code",
   "execution_count": 14,
   "id": "2a2a9443-9857-475a-8d99-68bbaf4ad6e5",
   "metadata": {},
   "outputs": [
    {
     "name": "stdout",
     "output_type": "stream",
     "text": [
      "Mean: 102.6\n"
     ]
    }
   ],
   "source": [
    "mean_value = df['TransactionAmount'].mean()\n",
    "print(f\"Mean: {mean_value}\")"
   ]
  },
  {
   "cell_type": "code",
   "execution_count": 16,
   "id": "af7b0838-16e2-41c2-b416-bd4c9c0b5f7c",
   "metadata": {},
   "outputs": [
    {
     "name": "stdout",
     "output_type": "stream",
     "text": [
      "Median: 100.0\n"
     ]
    }
   ],
   "source": [
    "median_value = df['TransactionAmount'].median()\n",
    "print(f\"Median: {median_value}\")"
   ]
  },
  {
   "cell_type": "code",
   "execution_count": 18,
   "id": "6dc40b71-e3ec-45eb-a8a1-0d7f915ff4c3",
   "metadata": {},
   "outputs": [
    {
     "name": "stdout",
     "output_type": "stream",
     "text": [
      "Mode:100\n"
     ]
    }
   ],
   "source": [
    "mode_value = df['TransactionAmount'].mode()[0]\n",
    "print(f\"Mode:{mode_value}\")"
   ]
  },
  {
   "cell_type": "code",
   "execution_count": 20,
   "id": "1200aa0c-7e7f-4f90-8b8b-2241dbffd2c3",
   "metadata": {},
   "outputs": [
    {
     "name": "stdout",
     "output_type": "stream",
     "text": [
      "Standard Deviation: 31.82373328193912\n"
     ]
    }
   ],
   "source": [
    "std_dev = df['TransactionAmount'].std()\n",
    "print(f\"Standard Deviation: {std_dev}\")"
   ]
  },
  {
   "cell_type": "code",
   "execution_count": 22,
   "id": "d6841eda-9470-4a5b-9328-8c06d5f36620",
   "metadata": {},
   "outputs": [
    {
     "name": "stdout",
     "output_type": "stream",
     "text": [
      "Variance: 1012.7499999999997\n"
     ]
    }
   ],
   "source": [
    "variance = df['TransactionAmount'].var()\n",
    "print(f\"Variance: {variance}\")"
   ]
  },
  {
   "cell_type": "code",
   "execution_count": 24,
   "id": "836a1c49-b1a5-4f1d-96a3-ba9befd6e41e",
   "metadata": {},
   "outputs": [
    {
     "name": "stdout",
     "output_type": "stream",
     "text": [
      "Range: 100\n"
     ]
    }
   ],
   "source": [
    "range_value = df['TransactionAmount'].max() - df['TransactionAmount'].min()\n",
    "print(f\"Range: {range_value}\")"
   ]
  },
  {
   "cell_type": "code",
   "execution_count": 26,
   "id": "83b5bb72-286e-4b64-a259-699a082a16d8",
   "metadata": {},
   "outputs": [
    {
     "name": "stdout",
     "output_type": "stream",
     "text": [
      "Interquartile Range (IQR): 35.0\n"
     ]
    }
   ],
   "source": [
    "iqr = df['TransactionAmount'].quantile(0.75) - df['TransactionAmount'].quantile(0.25)\n",
    "print(f\"Interquartile Range (IQR): {iqr}\")"
   ]
  },
  {
   "cell_type": "code",
   "execution_count": 28,
   "id": "4145c600-86f6-4f2e-9d88-8916543a108b",
   "metadata": {},
   "outputs": [],
   "source": [
    "from scipy import stats"
   ]
  },
  {
   "cell_type": "code",
   "execution_count": 30,
   "id": "983f023d-e064-4460-856a-2f0a3c057087",
   "metadata": {},
   "outputs": [],
   "source": [
    "mu = 100"
   ]
  },
  {
   "cell_type": "code",
   "execution_count": 32,
   "id": "c18d6ff7-bc40-4270-a56d-4fb85cf0f7c7",
   "metadata": {},
   "outputs": [],
   "source": [
    "t_statistic, p_value = stats.ttest_1samp(df['TransactionAmount'], mu)"
   ]
  },
  {
   "cell_type": "code",
   "execution_count": 34,
   "id": "da30578f-e04f-4e76-959c-1c9c717bae4e",
   "metadata": {},
   "outputs": [
    {
     "name": "stdout",
     "output_type": "stream",
     "text": [
      "T-Statistic: 0.4085001556802841\n",
      "P-Value: 0.6865284813438117\n"
     ]
    }
   ],
   "source": [
    "print(f\"T-Statistic: {t_statistic}\")\n",
    "print(f\"P-Value: {p_value}\")"
   ]
  },
  {
   "cell_type": "code",
   "execution_count": null,
   "id": "5d13899e-75b5-4fae-b2d3-c25f08c85386",
   "metadata": {},
   "outputs": [],
   "source": []
  }
 ],
 "metadata": {
  "kernelspec": {
   "display_name": "Python [conda env:base] *",
   "language": "python",
   "name": "conda-base-py"
  },
  "language_info": {
   "codemirror_mode": {
    "name": "ipython",
    "version": 3
   },
   "file_extension": ".py",
   "mimetype": "text/x-python",
   "name": "python",
   "nbconvert_exporter": "python",
   "pygments_lexer": "ipython3",
   "version": "3.12.7"
  }
 },
 "nbformat": 4,
 "nbformat_minor": 5
}
